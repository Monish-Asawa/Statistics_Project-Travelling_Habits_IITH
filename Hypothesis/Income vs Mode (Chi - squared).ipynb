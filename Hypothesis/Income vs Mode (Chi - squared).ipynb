{
 "cells": [
  {
   "cell_type": "markdown",
   "id": "f17c3ce4",
   "metadata": {},
   "source": [
    "## Chi - squared Test of Independence between\n",
    "#### 1) Income (categorized as <=5 lakhs & >5lakhs) and\n",
    "#### 2) Mode of Transport(By Road, Train or Flight)"
   ]
  },
  {
   "cell_type": "markdown",
   "id": "51ded9e6",
   "metadata": {},
   "source": [
    "#### Null Hypothesis : There is no association between the two variables.\n",
    "#### Alternative Hypothesis : There is an association between the two variables."
   ]
  },
  {
   "cell_type": "code",
   "execution_count": 1,
   "id": "adfc7ccc",
   "metadata": {},
   "outputs": [],
   "source": [
    "import pandas as pd\n",
    "import numpy as np\n",
    "from scipy.stats import chi2\n",
    "import matplotlib.pyplot as plt"
   ]
  },
  {
   "cell_type": "code",
   "execution_count": 2,
   "id": "d671224f",
   "metadata": {},
   "outputs": [
    {
     "data": {
      "text/html": [
       "<div>\n",
       "<style scoped>\n",
       "    .dataframe tbody tr th:only-of-type {\n",
       "        vertical-align: middle;\n",
       "    }\n",
       "\n",
       "    .dataframe tbody tr th {\n",
       "        vertical-align: top;\n",
       "    }\n",
       "\n",
       "    .dataframe thead th {\n",
       "        text-align: right;\n",
       "    }\n",
       "</style>\n",
       "<table border=\"1\" class=\"dataframe\">\n",
       "  <thead>\n",
       "    <tr style=\"text-align: right;\">\n",
       "      <th></th>\n",
       "      <th>gender</th>\n",
       "      <th>program</th>\n",
       "      <th>freq</th>\n",
       "      <th>cost</th>\n",
       "      <th>time</th>\n",
       "      <th>income</th>\n",
       "      <th>state</th>\n",
       "      <th>mode&lt;10</th>\n",
       "      <th>mode&gt;10</th>\n",
       "      <th>dist</th>\n",
       "    </tr>\n",
       "  </thead>\n",
       "  <tbody>\n",
       "    <tr>\n",
       "      <th>0</th>\n",
       "      <td>male</td>\n",
       "      <td>ug</td>\n",
       "      <td>3-4</td>\n",
       "      <td>5500.0</td>\n",
       "      <td>6.0</td>\n",
       "      <td>&gt;5</td>\n",
       "      <td>Rajasthan</td>\n",
       "      <td>flight</td>\n",
       "      <td>flight</td>\n",
       "      <td>1350</td>\n",
       "    </tr>\n",
       "    <tr>\n",
       "      <th>1</th>\n",
       "      <td>male</td>\n",
       "      <td>pg</td>\n",
       "      <td>3-4</td>\n",
       "      <td>3000.0</td>\n",
       "      <td>30.0</td>\n",
       "      <td>&lt;5</td>\n",
       "      <td>Rajasthan</td>\n",
       "      <td>train</td>\n",
       "      <td>train</td>\n",
       "      <td>1350</td>\n",
       "    </tr>\n",
       "    <tr>\n",
       "      <th>2</th>\n",
       "      <td>male</td>\n",
       "      <td>ug</td>\n",
       "      <td>&lt;2</td>\n",
       "      <td>8500.0</td>\n",
       "      <td>36.0</td>\n",
       "      <td>&gt;5</td>\n",
       "      <td>Rajasthan</td>\n",
       "      <td>train</td>\n",
       "      <td>train</td>\n",
       "      <td>1350</td>\n",
       "    </tr>\n",
       "    <tr>\n",
       "      <th>3</th>\n",
       "      <td>male</td>\n",
       "      <td>ug</td>\n",
       "      <td>&lt;2</td>\n",
       "      <td>2000.0</td>\n",
       "      <td>30.0</td>\n",
       "      <td>&gt;5</td>\n",
       "      <td>Rajasthan</td>\n",
       "      <td>train</td>\n",
       "      <td>train</td>\n",
       "      <td>1350</td>\n",
       "    </tr>\n",
       "    <tr>\n",
       "      <th>4</th>\n",
       "      <td>male</td>\n",
       "      <td>ug</td>\n",
       "      <td>&lt;2</td>\n",
       "      <td>5000.0</td>\n",
       "      <td>24.0</td>\n",
       "      <td>&lt;5</td>\n",
       "      <td>Rajasthan</td>\n",
       "      <td>flight</td>\n",
       "      <td>train</td>\n",
       "      <td>1350</td>\n",
       "    </tr>\n",
       "    <tr>\n",
       "      <th>...</th>\n",
       "      <td>...</td>\n",
       "      <td>...</td>\n",
       "      <td>...</td>\n",
       "      <td>...</td>\n",
       "      <td>...</td>\n",
       "      <td>...</td>\n",
       "      <td>...</td>\n",
       "      <td>...</td>\n",
       "      <td>...</td>\n",
       "      <td>...</td>\n",
       "    </tr>\n",
       "    <tr>\n",
       "      <th>243</th>\n",
       "      <td>male</td>\n",
       "      <td>ug</td>\n",
       "      <td>&lt;2</td>\n",
       "      <td>6000.0</td>\n",
       "      <td>24.0</td>\n",
       "      <td>&gt;5</td>\n",
       "      <td>Jammu &amp; Kashmir</td>\n",
       "      <td>flight</td>\n",
       "      <td>train</td>\n",
       "      <td>2100</td>\n",
       "    </tr>\n",
       "    <tr>\n",
       "      <th>244</th>\n",
       "      <td>male</td>\n",
       "      <td>ug</td>\n",
       "      <td>&lt;2</td>\n",
       "      <td>8000.0</td>\n",
       "      <td>12.0</td>\n",
       "      <td>&gt;5</td>\n",
       "      <td>Jammu &amp; Kashmir</td>\n",
       "      <td>flight</td>\n",
       "      <td>flight</td>\n",
       "      <td>2100</td>\n",
       "    </tr>\n",
       "    <tr>\n",
       "      <th>245</th>\n",
       "      <td>male</td>\n",
       "      <td>ug</td>\n",
       "      <td>&gt;10</td>\n",
       "      <td>8000.0</td>\n",
       "      <td>48.0</td>\n",
       "      <td>&lt;5</td>\n",
       "      <td>Bihar</td>\n",
       "      <td>road</td>\n",
       "      <td>flight</td>\n",
       "      <td>1400</td>\n",
       "    </tr>\n",
       "    <tr>\n",
       "      <th>246</th>\n",
       "      <td>male</td>\n",
       "      <td>pg</td>\n",
       "      <td>&lt;2</td>\n",
       "      <td>2000.0</td>\n",
       "      <td>15.0</td>\n",
       "      <td>&gt;5</td>\n",
       "      <td>Chhattisgarh</td>\n",
       "      <td>train</td>\n",
       "      <td>train</td>\n",
       "      <td>680</td>\n",
       "    </tr>\n",
       "    <tr>\n",
       "      <th>247</th>\n",
       "      <td>male</td>\n",
       "      <td>ug</td>\n",
       "      <td>&lt;2</td>\n",
       "      <td>3500.0</td>\n",
       "      <td>25.0</td>\n",
       "      <td>&gt;5</td>\n",
       "      <td>Chhattisgarh</td>\n",
       "      <td>flight</td>\n",
       "      <td>flight</td>\n",
       "      <td>680</td>\n",
       "    </tr>\n",
       "  </tbody>\n",
       "</table>\n",
       "<p>248 rows × 10 columns</p>\n",
       "</div>"
      ],
      "text/plain": [
       "    gender program freq    cost  time income            state mode<10 mode>10  \\\n",
       "0     male      ug  3-4  5500.0   6.0     >5        Rajasthan  flight  flight   \n",
       "1     male      pg  3-4  3000.0  30.0     <5        Rajasthan   train   train   \n",
       "2     male      ug   <2  8500.0  36.0     >5        Rajasthan   train   train   \n",
       "3     male      ug   <2  2000.0  30.0     >5        Rajasthan   train   train   \n",
       "4     male      ug   <2  5000.0  24.0     <5        Rajasthan  flight   train   \n",
       "..     ...     ...  ...     ...   ...    ...              ...     ...     ...   \n",
       "243   male      ug   <2  6000.0  24.0     >5  Jammu & Kashmir  flight   train   \n",
       "244   male      ug   <2  8000.0  12.0     >5  Jammu & Kashmir  flight  flight   \n",
       "245   male      ug  >10  8000.0  48.0     <5            Bihar    road  flight   \n",
       "246   male      pg   <2  2000.0  15.0     >5     Chhattisgarh   train   train   \n",
       "247   male      ug   <2  3500.0  25.0     >5     Chhattisgarh  flight  flight   \n",
       "\n",
       "     dist  \n",
       "0    1350  \n",
       "1    1350  \n",
       "2    1350  \n",
       "3    1350  \n",
       "4    1350  \n",
       "..    ...  \n",
       "243  2100  \n",
       "244  2100  \n",
       "245  1400  \n",
       "246   680  \n",
       "247   680  \n",
       "\n",
       "[248 rows x 10 columns]"
      ]
     },
     "execution_count": 2,
     "metadata": {},
     "output_type": "execute_result"
    }
   ],
   "source": [
    "df = pd.read_csv(\"../data.csv\", index_col=None).iloc[:, 1:]\n",
    "df"
   ]
  },
  {
   "cell_type": "code",
   "execution_count": 3,
   "id": "c23b5d26",
   "metadata": {},
   "outputs": [
    {
     "data": {
      "text/html": [
       "<div>\n",
       "<style scoped>\n",
       "    .dataframe tbody tr th:only-of-type {\n",
       "        vertical-align: middle;\n",
       "    }\n",
       "\n",
       "    .dataframe tbody tr th {\n",
       "        vertical-align: top;\n",
       "    }\n",
       "\n",
       "    .dataframe thead th {\n",
       "        text-align: right;\n",
       "    }\n",
       "</style>\n",
       "<table border=\"1\" class=\"dataframe\">\n",
       "  <thead>\n",
       "    <tr style=\"text-align: right;\">\n",
       "      <th></th>\n",
       "      <th>income</th>\n",
       "      <th>mode&lt;10</th>\n",
       "    </tr>\n",
       "  </thead>\n",
       "  <tbody>\n",
       "    <tr>\n",
       "      <th>0</th>\n",
       "      <td>&gt;5</td>\n",
       "      <td>flight</td>\n",
       "    </tr>\n",
       "    <tr>\n",
       "      <th>1</th>\n",
       "      <td>&lt;5</td>\n",
       "      <td>train</td>\n",
       "    </tr>\n",
       "    <tr>\n",
       "      <th>2</th>\n",
       "      <td>&gt;5</td>\n",
       "      <td>train</td>\n",
       "    </tr>\n",
       "    <tr>\n",
       "      <th>3</th>\n",
       "      <td>&gt;5</td>\n",
       "      <td>train</td>\n",
       "    </tr>\n",
       "    <tr>\n",
       "      <th>4</th>\n",
       "      <td>&lt;5</td>\n",
       "      <td>flight</td>\n",
       "    </tr>\n",
       "    <tr>\n",
       "      <th>...</th>\n",
       "      <td>...</td>\n",
       "      <td>...</td>\n",
       "    </tr>\n",
       "    <tr>\n",
       "      <th>243</th>\n",
       "      <td>&gt;5</td>\n",
       "      <td>flight</td>\n",
       "    </tr>\n",
       "    <tr>\n",
       "      <th>244</th>\n",
       "      <td>&gt;5</td>\n",
       "      <td>flight</td>\n",
       "    </tr>\n",
       "    <tr>\n",
       "      <th>245</th>\n",
       "      <td>&lt;5</td>\n",
       "      <td>road</td>\n",
       "    </tr>\n",
       "    <tr>\n",
       "      <th>246</th>\n",
       "      <td>&gt;5</td>\n",
       "      <td>train</td>\n",
       "    </tr>\n",
       "    <tr>\n",
       "      <th>247</th>\n",
       "      <td>&gt;5</td>\n",
       "      <td>flight</td>\n",
       "    </tr>\n",
       "  </tbody>\n",
       "</table>\n",
       "<p>248 rows × 2 columns</p>\n",
       "</div>"
      ],
      "text/plain": [
       "    income mode<10\n",
       "0       >5  flight\n",
       "1       <5   train\n",
       "2       >5   train\n",
       "3       >5   train\n",
       "4       <5  flight\n",
       "..     ...     ...\n",
       "243     >5  flight\n",
       "244     >5  flight\n",
       "245     <5    road\n",
       "246     >5   train\n",
       "247     >5  flight\n",
       "\n",
       "[248 rows x 2 columns]"
      ]
     },
     "execution_count": 3,
     "metadata": {},
     "output_type": "execute_result"
    }
   ],
   "source": [
    "df2 = df[['income','mode<10']]\n",
    "df2"
   ]
  },
  {
   "cell_type": "markdown",
   "id": "041b5463",
   "metadata": {},
   "source": [
    "### Creating Table of Observed Frequencies"
   ]
  },
  {
   "cell_type": "code",
   "execution_count": 4,
   "id": "d488a3d1",
   "metadata": {},
   "outputs": [
    {
     "data": {
      "text/html": [
       "<div>\n",
       "<style scoped>\n",
       "    .dataframe tbody tr th:only-of-type {\n",
       "        vertical-align: middle;\n",
       "    }\n",
       "\n",
       "    .dataframe tbody tr th {\n",
       "        vertical-align: top;\n",
       "    }\n",
       "\n",
       "    .dataframe thead th {\n",
       "        text-align: right;\n",
       "    }\n",
       "</style>\n",
       "<table border=\"1\" class=\"dataframe\">\n",
       "  <thead>\n",
       "    <tr style=\"text-align: right;\">\n",
       "      <th></th>\n",
       "      <th>by_Road</th>\n",
       "      <th>Train</th>\n",
       "      <th>Flight</th>\n",
       "    </tr>\n",
       "  </thead>\n",
       "  <tbody>\n",
       "    <tr>\n",
       "      <th>&lt;= 5 lakhs</th>\n",
       "      <td>0</td>\n",
       "      <td>0</td>\n",
       "      <td>0</td>\n",
       "    </tr>\n",
       "    <tr>\n",
       "      <th>&gt; 5 lakhs</th>\n",
       "      <td>0</td>\n",
       "      <td>0</td>\n",
       "      <td>0</td>\n",
       "    </tr>\n",
       "  </tbody>\n",
       "</table>\n",
       "</div>"
      ],
      "text/plain": [
       "            by_Road  Train  Flight\n",
       "<= 5 lakhs        0      0       0\n",
       "> 5 lakhs         0      0       0"
      ]
     },
     "execution_count": 4,
     "metadata": {},
     "output_type": "execute_result"
    }
   ],
   "source": [
    "observed_table = {\n",
    "    'by_Road': [0, 0],\n",
    "    'Train': [0, 0],\n",
    "    'Flight': [0, 0]\n",
    "}\n",
    "\n",
    "row_names = ['<= 5 lakhs', '> 5 lakhs']\n",
    "\n",
    "obv_df = pd.DataFrame(observed_table, index=row_names)\n",
    "obv_df"
   ]
  },
  {
   "cell_type": "code",
   "execution_count": 5,
   "id": "2e8751ee",
   "metadata": {},
   "outputs": [
    {
     "data": {
      "text/html": [
       "<div>\n",
       "<style scoped>\n",
       "    .dataframe tbody tr th:only-of-type {\n",
       "        vertical-align: middle;\n",
       "    }\n",
       "\n",
       "    .dataframe tbody tr th {\n",
       "        vertical-align: top;\n",
       "    }\n",
       "\n",
       "    .dataframe thead th {\n",
       "        text-align: right;\n",
       "    }\n",
       "</style>\n",
       "<table border=\"1\" class=\"dataframe\">\n",
       "  <thead>\n",
       "    <tr style=\"text-align: right;\">\n",
       "      <th></th>\n",
       "      <th>by_Road</th>\n",
       "      <th>Train</th>\n",
       "      <th>Flight</th>\n",
       "    </tr>\n",
       "  </thead>\n",
       "  <tbody>\n",
       "    <tr>\n",
       "      <th>&lt;= 5 lakhs</th>\n",
       "      <td>28</td>\n",
       "      <td>36</td>\n",
       "      <td>16</td>\n",
       "    </tr>\n",
       "    <tr>\n",
       "      <th>&gt; 5 lakhs</th>\n",
       "      <td>66</td>\n",
       "      <td>45</td>\n",
       "      <td>57</td>\n",
       "    </tr>\n",
       "  </tbody>\n",
       "</table>\n",
       "</div>"
      ],
      "text/plain": [
       "            by_Road  Train  Flight\n",
       "<= 5 lakhs       28     36      16\n",
       "> 5 lakhs        66     45      57"
      ]
     },
     "execution_count": 5,
     "metadata": {},
     "output_type": "execute_result"
    }
   ],
   "source": [
    "obv_df.at['<= 5 lakhs','by_Road'] = len(df2[(df2.income == '<5') & (df2['mode<10'] == 'road')])\n",
    "\n",
    "obv_df.at['<= 5 lakhs','Train'] = len(df2[(df2.income == '<5') & (df2['mode<10'] == 'train')])\n",
    "\n",
    "obv_df.at['<= 5 lakhs','Flight'] = len(df2[(df2.income == '<5') & (df2['mode<10'] == 'flight')])\n",
    "\n",
    "obv_df.at['> 5 lakhs','by_Road'] = len(df2[(df2.income == '>5') & (df2['mode<10'] == 'road')])\n",
    "\n",
    "obv_df.at['> 5 lakhs','Train'] = len(df2[(df2.income == '>5') & (df2['mode<10'] == 'train')])\n",
    "\n",
    "obv_df.at['> 5 lakhs','Flight'] = len(df2[(df2.income == '>5') & (df2['mode<10'] == 'flight')])\n",
    "\n",
    "obv_df"
   ]
  },
  {
   "cell_type": "code",
   "execution_count": 6,
   "id": "97a1d160",
   "metadata": {},
   "outputs": [
    {
     "data": {
      "text/html": [
       "<div>\n",
       "<style scoped>\n",
       "    .dataframe tbody tr th:only-of-type {\n",
       "        vertical-align: middle;\n",
       "    }\n",
       "\n",
       "    .dataframe tbody tr th {\n",
       "        vertical-align: top;\n",
       "    }\n",
       "\n",
       "    .dataframe thead th {\n",
       "        text-align: right;\n",
       "    }\n",
       "</style>\n",
       "<table border=\"1\" class=\"dataframe\">\n",
       "  <thead>\n",
       "    <tr style=\"text-align: right;\">\n",
       "      <th></th>\n",
       "      <th>by_Road</th>\n",
       "      <th>Train</th>\n",
       "      <th>Flight</th>\n",
       "      <th>Row_total</th>\n",
       "    </tr>\n",
       "  </thead>\n",
       "  <tbody>\n",
       "    <tr>\n",
       "      <th>&lt;= 5 lakhs</th>\n",
       "      <td>28</td>\n",
       "      <td>36</td>\n",
       "      <td>16</td>\n",
       "      <td>80</td>\n",
       "    </tr>\n",
       "    <tr>\n",
       "      <th>&gt; 5 lakhs</th>\n",
       "      <td>66</td>\n",
       "      <td>45</td>\n",
       "      <td>57</td>\n",
       "      <td>168</td>\n",
       "    </tr>\n",
       "    <tr>\n",
       "      <th>Column_total</th>\n",
       "      <td>94</td>\n",
       "      <td>81</td>\n",
       "      <td>73</td>\n",
       "      <td>248</td>\n",
       "    </tr>\n",
       "  </tbody>\n",
       "</table>\n",
       "</div>"
      ],
      "text/plain": [
       "              by_Road  Train  Flight  Row_total\n",
       "<= 5 lakhs         28     36      16         80\n",
       "> 5 lakhs          66     45      57        168\n",
       "Column_total       94     81      73        248"
      ]
     },
     "execution_count": 6,
     "metadata": {},
     "output_type": "execute_result"
    }
   ],
   "source": [
    "obv_df['Row_total'] = obv_df.sum(axis=1)\n",
    "obv_df.loc['Column_total'] = obv_df.sum(axis=0)\n",
    "obv_df"
   ]
  },
  {
   "cell_type": "markdown",
   "id": "469ecb60",
   "metadata": {},
   "source": [
    "### Creating Stacked Bar Graph for Observation Table"
   ]
  },
  {
   "cell_type": "code",
   "execution_count": 7,
   "id": "817fd3d0",
   "metadata": {},
   "outputs": [
    {
     "data": {
      "image/png": "[encoded data removed]",
      "text/plain": [
       "<Figure size 432x288 with 1 Axes>"
      ]
     },
     "metadata": {
      "needs_background": "light"
     },
     "output_type": "display_data"
    }
   ],
   "source": [
    "categories = ['by_Road', 'Train', 'Flight']\n",
    "y = []\n",
    "for i in range(2):\n",
    "    y1 = []\n",
    "    for j in range(3):\n",
    "        y1.append(obv_df.iloc[i,j])\n",
    "    y.append(y1)\n",
    "\n",
    "plt.bar(categories, y[0], color='y')\n",
    "plt.bar(categories, y[1], bottom=y[0], color='g')\n",
    "\n",
    "plt.xlabel('Mode of Transport', fontsize = 12)\n",
    "plt.ylabel('Number of individuals', fontsize = 12)\n",
    "plt.title('Stacked Bar Chart')\n",
    "plt.legend([\"<= 5 lakhs\", \"> 5 lakhs\"])\n",
    "plt.show()"
   ]
  },
  {
   "cell_type": "markdown",
   "id": "24b9b4ae",
   "metadata": {},
   "source": [
    "### Calculating Expected Frequencies:\n",
    "### Each frequency is calculated as $\\frac{\\, Row \\,Total \\, x \\, Column \\,Total\\, }{ \\,Grand\\, Total\\, }$"
   ]
  },
  {
   "cell_type": "code",
   "execution_count": 8,
   "id": "b1d16f25",
   "metadata": {},
   "outputs": [
    {
     "data": {
      "text/html": [
       "<div>\n",
       "<style scoped>\n",
       "    .dataframe tbody tr th:only-of-type {\n",
       "        vertical-align: middle;\n",
       "    }\n",
       "\n",
       "    .dataframe tbody tr th {\n",
       "        vertical-align: top;\n",
       "    }\n",
       "\n",
       "    .dataframe thead th {\n",
       "        text-align: right;\n",
       "    }\n",
       "</style>\n",
       "<table border=\"1\" class=\"dataframe\">\n",
       "  <thead>\n",
       "    <tr style=\"text-align: right;\">\n",
       "      <th></th>\n",
       "      <th>by_Road</th>\n",
       "      <th>Train</th>\n",
       "      <th>Flight</th>\n",
       "      <th>Row_total</th>\n",
       "    </tr>\n",
       "  </thead>\n",
       "  <tbody>\n",
       "    <tr>\n",
       "      <th>&lt;= 5 lakhs</th>\n",
       "      <td>30.322581</td>\n",
       "      <td>26.129032</td>\n",
       "      <td>23.548387</td>\n",
       "      <td>80</td>\n",
       "    </tr>\n",
       "    <tr>\n",
       "      <th>&gt; 5 lakhs</th>\n",
       "      <td>63.677419</td>\n",
       "      <td>54.870968</td>\n",
       "      <td>49.451613</td>\n",
       "      <td>168</td>\n",
       "    </tr>\n",
       "    <tr>\n",
       "      <th>Column_total</th>\n",
       "      <td>94.000000</td>\n",
       "      <td>81.000000</td>\n",
       "      <td>73.000000</td>\n",
       "      <td>248</td>\n",
       "    </tr>\n",
       "  </tbody>\n",
       "</table>\n",
       "</div>"
      ],
      "text/plain": [
       "                by_Road      Train     Flight  Row_total\n",
       "<= 5 lakhs    30.322581  26.129032  23.548387         80\n",
       "> 5 lakhs     63.677419  54.870968  49.451613        168\n",
       "Column_total  94.000000  81.000000  73.000000        248"
      ]
     },
     "execution_count": 8,
     "metadata": {},
     "output_type": "execute_result"
    }
   ],
   "source": [
    "exp_df = obv_df.copy()\n",
    "\n",
    "for i in range(2):\n",
    "    for j in range(3):\n",
    "        exp_df.iloc[i,j] = (obv_df.iloc[i,3]*obv_df.iloc[2,j])/obv_df.iloc[2,3]\n",
    "exp_df"
   ]
  },
  {
   "cell_type": "markdown",
   "id": "d7dc49fa",
   "metadata": {},
   "source": [
    "### Calculating test statistic as:\n",
    "\n",
    "$$ \\chi^{2*} = \\sum_{i=1}^{rc} \\frac{(O_{i} - E_{i})^2}{E_{i}} $$\n",
    "$$ \\chi^{2*} \\sim \\chi^{2}_{(r-1)(c-1)}$$"
   ]
  },
  {
   "cell_type": "code",
   "execution_count": 9,
   "id": "00f0e658",
   "metadata": {},
   "outputs": [
    {
     "data": {
      "text/plain": [
       "9.339195847385877"
      ]
     },
     "execution_count": 9,
     "metadata": {},
     "output_type": "execute_result"
    }
   ],
   "source": [
    "test_stat = 0\n",
    "for i in range(2):\n",
    "    for j in range(3):\n",
    "        test_stat += (obv_df.iloc[i,j] - exp_df.iloc[i,j])**2/exp_df.iloc[i,j]\n",
    "test_stat"
   ]
  },
  {
   "cell_type": "markdown",
   "id": "342ffbcf",
   "metadata": {},
   "source": [
    "### Calculating p-value:\n",
    "$$ p\\text{-value} = P(\\chi^{2} > \\chi^{2*}) $$"
   ]
  },
  {
   "cell_type": "code",
   "execution_count": 10,
   "id": "b3dff9cb",
   "metadata": {},
   "outputs": [
    {
     "data": {
      "text/plain": [
       "0.009376038652213481"
      ]
     },
     "execution_count": 10,
     "metadata": {},
     "output_type": "execute_result"
    }
   ],
   "source": [
    "p_value = 1 - chi2.cdf(test_stat, 2)\n",
    "p_value"
   ]
  },
  {
   "cell_type": "markdown",
   "id": "2ab7f5ce",
   "metadata": {},
   "source": [
    "#### Since p-value is less than 0.05 (level of significance), we reject the Null Hypothesis."
   ]
  },
  {
   "cell_type": "markdown",
   "id": "18330f8a",
   "metadata": {},
   "source": [
    "#### Hence, our alternative hypothesis is correct and their is an association between Income and Mode of Transport."
   ]
  }
 ],
 "metadata": {
  "kernelspec": {
   "display_name": "Python 3 (ipykernel)",
   "language": "python",
   "name": "python3"
  },
  "language_info": {
   "codemirror_mode": {
    "name": "ipython",
    "version": 3
   },
   "file_extension": ".py",
   "mimetype": "text/x-python",
   "name": "python",
   "nbconvert_exporter": "python",
   "pygments_lexer": "ipython3",
   "version": "3.11.8"
  }
 },
 "nbformat": 4,
 "nbformat_minor": 5
}
