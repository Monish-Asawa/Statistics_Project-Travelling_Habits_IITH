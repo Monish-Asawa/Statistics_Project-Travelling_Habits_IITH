{
 "cells": [
  {
   "cell_type": "markdown",
   "metadata": {},
   "source": [
    "## Intuition: \n",
    "People who live nearby visit their homes more frequently than those who live farther away\n",
    "\n",
    "### For Testing Purpose: \n",
    "- **Null Hypothesis:** &nbsp;&nbsp;$\\hat{p}_1 - \\hat{p}_2 \\leq 0$  \n",
    "- **Alternate Hypothesis:** &nbsp;&nbsp;$\\hat{p}_1 - \\hat{p}_2 > 0$  \n",
    "\n",
    "Where,\n",
    "- $\\hat{p}_1$: Proportion of students living nearby and visiting home >= 3 times\n",
    "- $\\hat{p}_2$: Proportion of students living far away and visiting home >=  3 times\n"
   ]
  },
  {
   "cell_type": "code",
   "execution_count": 1,
   "metadata": {},
   "outputs": [],
   "source": [
    "import numpy as np\n",
    "import pandas as pd\n",
    "from scipy.stats import norm\n"
   ]
  },
  {
   "cell_type": "markdown",
   "metadata": {},
   "source": [
    "### Taking $\\alpha$ = 0.05 "
   ]
  },
  {
   "cell_type": "code",
   "execution_count": 2,
   "metadata": {},
   "outputs": [
    {
     "name": "stdout",
     "output_type": "stream",
     "text": [
      "P_near:  0.8391608391608392\n"
     ]
    }
   ],
   "source": [
    "alpha = 0.05\n",
    "distance = 750 \n",
    "\n",
    "df = pd.read_csv( \"../data.csv\" )\n",
    "\n",
    "nearBy = df[df['dist'] <= distance ]\n",
    "nearBy_freq = nearBy[(nearBy['freq'] == '3-4') | (nearBy['freq'] == '5-10') | (nearBy['freq'] == '>10')]\n",
    "\n",
    "p_near = nearBy_freq.shape[0]/nearBy.shape[0]\n",
    "print( \"P_near: \" , p_near)"
   ]
  },
  {
   "cell_type": "code",
   "execution_count": 3,
   "metadata": {},
   "outputs": [
    {
     "name": "stdout",
     "output_type": "stream",
     "text": [
      "P_far:  0.5252525252525253\n"
     ]
    }
   ],
   "source": [
    "farAway = df[df['dist'] > distance ]\n",
    "farAway_freq = farAway[(farAway['freq'] == '3-4') | (farAway['freq'] == '5-10') | (farAway['freq'] == '>10')]\n",
    "\n",
    "p_far = farAway_freq.shape[0]/farAway.shape[0]\n",
    "print( \"P_far: \", p_far )"
   ]
  },
  {
   "cell_type": "markdown",
   "metadata": {},
   "source": [
    "### Now finding Test Statistic: \n",
    "\n",
    "using formula: \n",
    "#### $$ Z^* = \\frac{(\\hat{p}_1 - \\hat{p}_2) - 0}{\\sqrt{ \\frac{\\hat{p}_1(1-\\hat{p}_1)}{n1} + \\frac{\\hat{p}_2(1-\\hat{p}_2)}{n2}   }} $$\n",
    "\n"
   ]
  },
  {
   "cell_type": "code",
   "execution_count": 4,
   "metadata": {},
   "outputs": [
    {
     "name": "stdout",
     "output_type": "stream",
     "text": [
      "Test_Statistic:  5.334553698609998\n"
     ]
    }
   ],
   "source": [
    "var_far = (p_far*(1-p_far)) / farAway.shape[0] \n",
    "var_near = (p_near*(1-p_near)) / nearBy.shape[0] \n",
    "\n",
    "deviation = np.sqrt( var_far + var_near )\n",
    "\n",
    "test_statistic = (p_near - p_far) / deviation \n",
    "print( \"Test_Statistic: \", test_statistic )  "
   ]
  },
  {
   "cell_type": "markdown",
   "metadata": {},
   "source": [
    "### Calculating *p-value* and comparing with $\\alpha$\n",
    "using formula: \n",
    "#### $$ p\\text{-value} = P( Z \\geq Z^* ) $$\n"
   ]
  },
  {
   "cell_type": "code",
   "execution_count": 5,
   "metadata": {},
   "outputs": [
    {
     "name": "stdout",
     "output_type": "stream",
     "text": [
      "P-value:  4.7889920473664915e-08\n"
     ]
    }
   ],
   "source": [
    "mean = 0\n",
    "std_dev = 1 \n",
    "\n",
    "p_value = 1 - norm.cdf( test_statistic, loc=mean, scale=std_dev )\n",
    "print(\"P-value: \", p_value )"
   ]
  },
  {
   "cell_type": "markdown",
   "metadata": {},
   "source": [
    "### Conclusion: "
   ]
  },
  {
   "cell_type": "code",
   "execution_count": 6,
   "metadata": {},
   "outputs": [
    {
     "name": "stdout",
     "output_type": "stream",
     "text": [
      "Since p < α\n",
      "Null Hypothesis rejected and Alternate Hypothesis accepted\n"
     ]
    }
   ],
   "source": [
    "if p_value < alpha:\n",
    "    print(\"Since p < \\u03B1\")\n",
    "    print(\"Null Hypothesis rejected and Alternate Hypothesis accepted\") \n",
    "else: \n",
    "    print(\"Failed to reject this hypothesis with given data\")"
   ]
  }
 ],
 "metadata": {
  "kernelspec": {
   "display_name": "Python 3",
   "language": "python",
   "name": "python3"
  },
  "language_info": {
   "codemirror_mode": {
    "name": "ipython",
    "version": 3
   },
   "file_extension": ".py",
   "mimetype": "text/x-python",
   "name": "python",
   "nbconvert_exporter": "python",
   "pygments_lexer": "ipython3",
   "version": "3.11.8"
  }
 },
 "nbformat": 4,
 "nbformat_minor": 2
}
