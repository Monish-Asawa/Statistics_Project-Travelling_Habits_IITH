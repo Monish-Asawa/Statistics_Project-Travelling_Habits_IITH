{
 "cells": [
  {
   "cell_type": "markdown",
   "metadata": {},
   "source": [
    "## Finding Confidence Interval\n",
    "### for difference of average cost for those who travel less and those who travel more\n",
    "X -> Cost to a Student who travels <= 4 times<br>\n",
    "Y -> Cost to a Student who travels > 4 times"
   ]
  },
  {
   "cell_type": "code",
   "execution_count": 16,
   "metadata": {},
   "outputs": [],
   "source": [
    "import numpy as np \n",
    "import pandas as pd \n",
    "from scipy.stats import t"
   ]
  },
  {
   "cell_type": "code",
   "execution_count": 17,
   "metadata": {},
   "outputs": [
    {
     "name": "stdout",
     "output_type": "stream",
     "text": [
      "3959.1176470588234 1148.611111111111\n",
      "Can't use pooled variance\n"
     ]
    }
   ],
   "source": [
    "df = pd.read_csv(\"../data.csv\")\n",
    "alpha = 0.05 \n",
    "\n",
    "g4 = df[(df['freq'] == '5-10') | (df['freq'] == '>10')]\n",
    "mean_g4 = g4['cost'].mean()\n",
    "var_g4 = g4['cost'].var()\n",
    "\n",
    "l4 =  df[(df['freq'] == '3-4') | (df['freq'] == '<2')]\n",
    "mean_l4 = l4['cost'].mean() \n",
    "var_l4 = l4['cost'].var() \n",
    "\n",
    "print( mean_l4, mean_g4 )\n",
    "\n",
    "if var_g4 / var_l4 < 0.25 or var_g4 / var_l4 > 4: \n",
    "    print( \"Can't use pooled variance\" )\n",
    "else :\n",
    "    print( \"We will use pooled version\" ) "
   ]
  },
  {
   "cell_type": "markdown",
   "metadata": {},
   "source": [
    "### Calculating mean Difference:  $$ \\mu =  \\bar{X} - \\bar{Y} $$"
   ]
  },
  {
   "cell_type": "code",
   "execution_count": 18,
   "metadata": {},
   "outputs": [
    {
     "name": "stdout",
     "output_type": "stream",
     "text": [
      "Difference in means:  2810.506535947712\n"
     ]
    }
   ],
   "source": [
    "diff_mean = mean_l4 - mean_g4 \n",
    "print( \"Difference in means: \", diff_mean )"
   ]
  },
  {
   "cell_type": "markdown",
   "metadata": {},
   "source": [
    "### Calculation of Degree of Freedom (r): \n",
    "####  $$ r = \\frac{( \\frac{S_X^2}{n} + \\frac{S_Y^2}{m}  )^2}{ \\frac{ (S_X^2/n)^2 }{n-1} + \\frac{ (S_Y^2/m)^2 }{m-1}  }  $$"
   ]
  },
  {
   "cell_type": "code",
   "execution_count": 19,
   "metadata": {},
   "outputs": [
    {
     "name": "stdout",
     "output_type": "stream",
     "text": [
      "239.526651504619\n"
     ]
    }
   ],
   "source": [
    "pooled_var = ((g4.shape[0]-1)*var_g4 + (l4.shape[0]-1)*var_l4) / g4.shape[0] + l4.shape[0] - 2 \n",
    " \n",
    "n = l4.shape[0] \n",
    "m = g4.shape[0]\n",
    "dof = (((var_l4/n )+ (var_g4/m))**2 ) /  ((((var_l4/n)**2)/(n-1) ) + (((var_g4/m)**2) / (m-1)))\n",
    "print( dof )  "
   ]
  },
  {
   "cell_type": "markdown",
   "metadata": {},
   "source": [
    "### Now finding Confidence Interval: $$ (\\bar{X} - \\bar{Y}) \\pm t_{\\frac{\\alpha}{2}, r} \\sqrt{\\frac{S_X^2}{n} + \\frac{S_Y^2}{m}} $$ "
   ]
  },
  {
   "cell_type": "code",
   "execution_count": 21,
   "metadata": {},
   "outputs": [
    {
     "name": "stdout",
     "output_type": "stream",
     "text": [
      "673.4223683305999\n",
      "Confidence Interval: ( 2137.084167617112  ,  3483.928904278312  )\n"
     ]
    }
   ],
   "source": [
    "t_value = t.ppf(1-alpha/2 , df=np.ceil(dof) )\n",
    "deviation = np.sqrt( var_g4/g4.shape[0] + var_l4/l4.shape[0] )\n",
    "\n",
    "print( t_value* deviation )\n",
    "\n",
    "upper_bound = diff_mean + t_value*deviation \n",
    "lower_bound = diff_mean - t_value*deviation\n",
    "\n",
    "print( \"Confidence Interval: (\", lower_bound,  \" , \", upper_bound , \" )\" )"
   ]
  },
  {
   "cell_type": "markdown",
   "metadata": {},
   "source": [
    "### Confidence Interval: $$(2137.08 , 3483.92) $$"
   ]
  },
  {
   "cell_type": "markdown",
   "metadata": {},
   "source": []
  }
 ],
 "metadata": {
  "kernelspec": {
   "display_name": "Python 3",
   "language": "python",
   "name": "python3"
  },
  "language_info": {
   "codemirror_mode": {
    "name": "ipython",
    "version": 3
   },
   "file_extension": ".py",
   "mimetype": "text/x-python",
   "name": "python",
   "nbconvert_exporter": "python",
   "pygments_lexer": "ipython3",
   "version": "3.11.8"
  }
 },
 "nbformat": 4,
 "nbformat_minor": 2
}
