{
 "cells": [
  {
   "cell_type": "code",
   "execution_count": 1,
   "id": "d57105f9",
   "metadata": {},
   "outputs": [],
   "source": [
    "import pandas as pd\n",
    "import numpy as np\n",
    "from scipy.stats import f\n",
    "import matplotlib.pyplot as plt"
   ]
  },
  {
   "cell_type": "code",
   "execution_count": 2,
   "id": "8d2c2f4b",
   "metadata": {},
   "outputs": [
    {
     "data": {
      "text/html": [
       "<div>\n",
       "<style scoped>\n",
       "    .dataframe tbody tr th:only-of-type {\n",
       "        vertical-align: middle;\n",
       "    }\n",
       "\n",
       "    .dataframe tbody tr th {\n",
       "        vertical-align: top;\n",
       "    }\n",
       "\n",
       "    .dataframe thead th {\n",
       "        text-align: right;\n",
       "    }\n",
       "</style>\n",
       "<table border=\"1\" class=\"dataframe\">\n",
       "  <thead>\n",
       "    <tr style=\"text-align: right;\">\n",
       "      <th></th>\n",
       "      <th>gender</th>\n",
       "      <th>program</th>\n",
       "      <th>freq</th>\n",
       "      <th>cost</th>\n",
       "      <th>time</th>\n",
       "      <th>income</th>\n",
       "      <th>state</th>\n",
       "      <th>mode&lt;10</th>\n",
       "      <th>mode&gt;10</th>\n",
       "      <th>dist</th>\n",
       "    </tr>\n",
       "  </thead>\n",
       "  <tbody>\n",
       "    <tr>\n",
       "      <th>0</th>\n",
       "      <td>male</td>\n",
       "      <td>ug</td>\n",
       "      <td>3-4</td>\n",
       "      <td>5500.0</td>\n",
       "      <td>6.0</td>\n",
       "      <td>&gt;5</td>\n",
       "      <td>Rajasthan</td>\n",
       "      <td>flight</td>\n",
       "      <td>flight</td>\n",
       "      <td>1350</td>\n",
       "    </tr>\n",
       "    <tr>\n",
       "      <th>1</th>\n",
       "      <td>male</td>\n",
       "      <td>pg</td>\n",
       "      <td>3-4</td>\n",
       "      <td>3000.0</td>\n",
       "      <td>30.0</td>\n",
       "      <td>&lt;5</td>\n",
       "      <td>Rajasthan</td>\n",
       "      <td>train</td>\n",
       "      <td>train</td>\n",
       "      <td>1350</td>\n",
       "    </tr>\n",
       "    <tr>\n",
       "      <th>2</th>\n",
       "      <td>male</td>\n",
       "      <td>ug</td>\n",
       "      <td>&lt;2</td>\n",
       "      <td>2000.0</td>\n",
       "      <td>30.0</td>\n",
       "      <td>&gt;5</td>\n",
       "      <td>Rajasthan</td>\n",
       "      <td>train</td>\n",
       "      <td>train</td>\n",
       "      <td>1350</td>\n",
       "    </tr>\n",
       "    <tr>\n",
       "      <th>3</th>\n",
       "      <td>male</td>\n",
       "      <td>ug</td>\n",
       "      <td>&lt;2</td>\n",
       "      <td>5000.0</td>\n",
       "      <td>24.0</td>\n",
       "      <td>&lt;5</td>\n",
       "      <td>Rajasthan</td>\n",
       "      <td>flight</td>\n",
       "      <td>train</td>\n",
       "      <td>1350</td>\n",
       "    </tr>\n",
       "    <tr>\n",
       "      <th>4</th>\n",
       "      <td>male</td>\n",
       "      <td>ug</td>\n",
       "      <td>&lt;2</td>\n",
       "      <td>2500.0</td>\n",
       "      <td>40.0</td>\n",
       "      <td>&gt;5</td>\n",
       "      <td>Rajasthan</td>\n",
       "      <td>flight</td>\n",
       "      <td>train</td>\n",
       "      <td>1350</td>\n",
       "    </tr>\n",
       "    <tr>\n",
       "      <th>...</th>\n",
       "      <td>...</td>\n",
       "      <td>...</td>\n",
       "      <td>...</td>\n",
       "      <td>...</td>\n",
       "      <td>...</td>\n",
       "      <td>...</td>\n",
       "      <td>...</td>\n",
       "      <td>...</td>\n",
       "      <td>...</td>\n",
       "      <td>...</td>\n",
       "    </tr>\n",
       "    <tr>\n",
       "      <th>237</th>\n",
       "      <td>male</td>\n",
       "      <td>ug</td>\n",
       "      <td>&lt;2</td>\n",
       "      <td>6000.0</td>\n",
       "      <td>24.0</td>\n",
       "      <td>&gt;5</td>\n",
       "      <td>Jammu &amp; Kashmir</td>\n",
       "      <td>flight</td>\n",
       "      <td>train</td>\n",
       "      <td>2100</td>\n",
       "    </tr>\n",
       "    <tr>\n",
       "      <th>238</th>\n",
       "      <td>male</td>\n",
       "      <td>ug</td>\n",
       "      <td>&lt;2</td>\n",
       "      <td>8000.0</td>\n",
       "      <td>12.0</td>\n",
       "      <td>&gt;5</td>\n",
       "      <td>Jammu &amp; Kashmir</td>\n",
       "      <td>flight</td>\n",
       "      <td>flight</td>\n",
       "      <td>2100</td>\n",
       "    </tr>\n",
       "    <tr>\n",
       "      <th>239</th>\n",
       "      <td>male</td>\n",
       "      <td>ug</td>\n",
       "      <td>&gt;10</td>\n",
       "      <td>8000.0</td>\n",
       "      <td>48.0</td>\n",
       "      <td>&lt;5</td>\n",
       "      <td>Bihar</td>\n",
       "      <td>road</td>\n",
       "      <td>flight</td>\n",
       "      <td>1400</td>\n",
       "    </tr>\n",
       "    <tr>\n",
       "      <th>240</th>\n",
       "      <td>male</td>\n",
       "      <td>pg</td>\n",
       "      <td>&lt;2</td>\n",
       "      <td>2000.0</td>\n",
       "      <td>15.0</td>\n",
       "      <td>&gt;5</td>\n",
       "      <td>Chhattisgarh</td>\n",
       "      <td>train</td>\n",
       "      <td>train</td>\n",
       "      <td>680</td>\n",
       "    </tr>\n",
       "    <tr>\n",
       "      <th>241</th>\n",
       "      <td>male</td>\n",
       "      <td>ug</td>\n",
       "      <td>&lt;2</td>\n",
       "      <td>3500.0</td>\n",
       "      <td>25.0</td>\n",
       "      <td>&gt;5</td>\n",
       "      <td>Chhattisgarh</td>\n",
       "      <td>flight</td>\n",
       "      <td>flight</td>\n",
       "      <td>680</td>\n",
       "    </tr>\n",
       "  </tbody>\n",
       "</table>\n",
       "<p>242 rows × 10 columns</p>\n",
       "</div>"
      ],
      "text/plain": [
       "    gender program freq    cost  time income            state mode<10 mode>10  \\\n",
       "0     male      ug  3-4  5500.0   6.0     >5        Rajasthan  flight  flight   \n",
       "1     male      pg  3-4  3000.0  30.0     <5        Rajasthan   train   train   \n",
       "2     male      ug   <2  2000.0  30.0     >5        Rajasthan   train   train   \n",
       "3     male      ug   <2  5000.0  24.0     <5        Rajasthan  flight   train   \n",
       "4     male      ug   <2  2500.0  40.0     >5        Rajasthan  flight   train   \n",
       "..     ...     ...  ...     ...   ...    ...              ...     ...     ...   \n",
       "237   male      ug   <2  6000.0  24.0     >5  Jammu & Kashmir  flight   train   \n",
       "238   male      ug   <2  8000.0  12.0     >5  Jammu & Kashmir  flight  flight   \n",
       "239   male      ug  >10  8000.0  48.0     <5            Bihar    road  flight   \n",
       "240   male      pg   <2  2000.0  15.0     >5     Chhattisgarh   train   train   \n",
       "241   male      ug   <2  3500.0  25.0     >5     Chhattisgarh  flight  flight   \n",
       "\n",
       "     dist  \n",
       "0    1350  \n",
       "1    1350  \n",
       "2    1350  \n",
       "3    1350  \n",
       "4    1350  \n",
       "..    ...  \n",
       "237  2100  \n",
       "238  2100  \n",
       "239  1400  \n",
       "240   680  \n",
       "241   680  \n",
       "\n",
       "[242 rows x 10 columns]"
      ]
     },
     "execution_count": 2,
     "metadata": {},
     "output_type": "execute_result"
    }
   ],
   "source": [
    "df = pd.read_csv(\"data.csv\", index_col=None).iloc[:, 1:]\n",
    "df"
   ]
  },
  {
   "cell_type": "code",
   "execution_count": 3,
   "id": "aad64657",
   "metadata": {},
   "outputs": [
    {
     "data": {
      "text/html": [
       "<div>\n",
       "<style scoped>\n",
       "    .dataframe tbody tr th:only-of-type {\n",
       "        vertical-align: middle;\n",
       "    }\n",
       "\n",
       "    .dataframe tbody tr th {\n",
       "        vertical-align: top;\n",
       "    }\n",
       "\n",
       "    .dataframe thead th {\n",
       "        text-align: right;\n",
       "    }\n",
       "</style>\n",
       "<table border=\"1\" class=\"dataframe\">\n",
       "  <thead>\n",
       "    <tr style=\"text-align: right;\">\n",
       "      <th></th>\n",
       "      <th>cost</th>\n",
       "      <th>mode&lt;10</th>\n",
       "      <th>mode&gt;10</th>\n",
       "    </tr>\n",
       "  </thead>\n",
       "  <tbody>\n",
       "    <tr>\n",
       "      <th>0</th>\n",
       "      <td>5500.0</td>\n",
       "      <td>flight</td>\n",
       "      <td>flight</td>\n",
       "    </tr>\n",
       "    <tr>\n",
       "      <th>1</th>\n",
       "      <td>3000.0</td>\n",
       "      <td>train</td>\n",
       "      <td>train</td>\n",
       "    </tr>\n",
       "    <tr>\n",
       "      <th>2</th>\n",
       "      <td>2000.0</td>\n",
       "      <td>train</td>\n",
       "      <td>train</td>\n",
       "    </tr>\n",
       "    <tr>\n",
       "      <th>3</th>\n",
       "      <td>5000.0</td>\n",
       "      <td>flight</td>\n",
       "      <td>train</td>\n",
       "    </tr>\n",
       "    <tr>\n",
       "      <th>4</th>\n",
       "      <td>2500.0</td>\n",
       "      <td>flight</td>\n",
       "      <td>train</td>\n",
       "    </tr>\n",
       "    <tr>\n",
       "      <th>...</th>\n",
       "      <td>...</td>\n",
       "      <td>...</td>\n",
       "      <td>...</td>\n",
       "    </tr>\n",
       "    <tr>\n",
       "      <th>237</th>\n",
       "      <td>6000.0</td>\n",
       "      <td>flight</td>\n",
       "      <td>train</td>\n",
       "    </tr>\n",
       "    <tr>\n",
       "      <th>238</th>\n",
       "      <td>8000.0</td>\n",
       "      <td>flight</td>\n",
       "      <td>flight</td>\n",
       "    </tr>\n",
       "    <tr>\n",
       "      <th>239</th>\n",
       "      <td>8000.0</td>\n",
       "      <td>road</td>\n",
       "      <td>flight</td>\n",
       "    </tr>\n",
       "    <tr>\n",
       "      <th>240</th>\n",
       "      <td>2000.0</td>\n",
       "      <td>train</td>\n",
       "      <td>train</td>\n",
       "    </tr>\n",
       "    <tr>\n",
       "      <th>241</th>\n",
       "      <td>3500.0</td>\n",
       "      <td>flight</td>\n",
       "      <td>flight</td>\n",
       "    </tr>\n",
       "  </tbody>\n",
       "</table>\n",
       "<p>242 rows × 3 columns</p>\n",
       "</div>"
      ],
      "text/plain": [
       "       cost mode<10 mode>10\n",
       "0    5500.0  flight  flight\n",
       "1    3000.0   train   train\n",
       "2    2000.0   train   train\n",
       "3    5000.0  flight   train\n",
       "4    2500.0  flight   train\n",
       "..      ...     ...     ...\n",
       "237  6000.0  flight   train\n",
       "238  8000.0  flight  flight\n",
       "239  8000.0    road  flight\n",
       "240  2000.0   train   train\n",
       "241  3500.0  flight  flight\n",
       "\n",
       "[242 rows x 3 columns]"
      ]
     },
     "execution_count": 3,
     "metadata": {},
     "output_type": "execute_result"
    }
   ],
   "source": [
    "df2 = df[['cost','mode<10','mode>10']]\n",
    "df2"
   ]
  },
  {
   "cell_type": "code",
   "execution_count": 17,
   "id": "5fcb4c94",
   "metadata": {},
   "outputs": [
    {
     "name": "stdout",
     "output_type": "stream",
     "text": [
      "42\n"
     ]
    },
    {
     "data": {
      "text/plain": [
       "0       5500.0\n",
       "5       6000.0\n",
       "6       4000.0\n",
       "11      7000.0\n",
       "13      4000.0\n",
       "27      5000.0\n",
       "34      5000.0\n",
       "137     7000.0\n",
       "138     5000.0\n",
       "141    11000.0\n",
       "149    10000.0\n",
       "152     3000.0\n",
       "159     7000.0\n",
       "166     4000.0\n",
       "175     7000.0\n",
       "176    10000.0\n",
       "178     7000.0\n",
       "180    10000.0\n",
       "181     6000.0\n",
       "182     6000.0\n",
       "183     7000.0\n",
       "186     9000.0\n",
       "188     2000.0\n",
       "189     9500.0\n",
       "190     7000.0\n",
       "196     7000.0\n",
       "200     9000.0\n",
       "208     6000.0\n",
       "209     5000.0\n",
       "211     4000.0\n",
       "215     8000.0\n",
       "220     6000.0\n",
       "222     9000.0\n",
       "224    10000.0\n",
       "226    10000.0\n",
       "227    11000.0\n",
       "230     7000.0\n",
       "233     8000.0\n",
       "234     6000.0\n",
       "235     6000.0\n",
       "238     8000.0\n",
       "241     3500.0\n",
       "Name: cost, dtype: float64"
      ]
     },
     "execution_count": 17,
     "metadata": {},
     "output_type": "execute_result"
    }
   ],
   "source": [
    "df_flight = df2[(df2['mode<10'] == 'flight') & (df2['mode>10'] == 'flight') & (df2.cost < 15000)].cost\n",
    "print(len(df_flight))\n",
    "df_flight"
   ]
  },
  {
   "cell_type": "code",
   "execution_count": 18,
   "id": "0280e3f1",
   "metadata": {},
   "outputs": [
    {
     "data": {
      "text/plain": [
       "count       42.000000\n",
       "mean      6845.238095\n",
       "std       2272.551202\n",
       "min       2000.000000\n",
       "25%       5125.000000\n",
       "50%       7000.000000\n",
       "75%       8750.000000\n",
       "max      11000.000000\n",
       "Name: cost, dtype: float64"
      ]
     },
     "execution_count": 18,
     "metadata": {},
     "output_type": "execute_result"
    }
   ],
   "source": [
    "df_flight.describe()"
   ]
  },
  {
   "cell_type": "code",
   "execution_count": 34,
   "id": "392aa607",
   "metadata": {},
   "outputs": [
    {
     "data": {
      "image/png": "[encoded data removed]",
      "text/plain": [
       "<Figure size 640x480 with 1 Axes>"
      ]
     },
     "metadata": {},
     "output_type": "display_data"
    }
   ],
   "source": [
    "edges = np.linspace(500, 13000, 12)\n",
    "plt.hist(df_flight, bins= edges, edgecolor='black')\n",
    "\n",
    "# Adding title and labels\n",
    "plt.title('Cost for student going by flight')\n",
    "plt.xlabel('Cost (INR)')\n",
    "plt.ylabel('Number of students')\n",
    "plt.axvline(x=df_flight.mean(), color='black', linestyle='--')\n",
    "plt.text(df_flight.mean(), plt.gca().get_ylim()[1] * 0.05, f'x = {df_flight.mean():.2f}', \n",
    "         horizontalalignment='center')\n",
    "plt.savefig('cost_flight.png')\n",
    "plt.show()"
   ]
  },
  {
   "cell_type": "code",
   "execution_count": 6,
   "id": "53a3f700",
   "metadata": {},
   "outputs": [
    {
     "name": "stdout",
     "output_type": "stream",
     "text": [
      "72\n"
     ]
    },
    {
     "data": {
      "text/plain": [
       "1      3000.0\n",
       "2      2000.0\n",
       "8      1800.0\n",
       "10     5000.0\n",
       "12     3000.0\n",
       "        ...  \n",
       "218    2500.0\n",
       "219    2500.0\n",
       "225    1300.0\n",
       "232    3000.0\n",
       "240    2000.0\n",
       "Name: cost, Length: 72, dtype: float64"
      ]
     },
     "execution_count": 6,
     "metadata": {},
     "output_type": "execute_result"
    }
   ],
   "source": [
    "df_train = df2[(df2['mode<10'] == 'train') & (df2['mode>10'] == 'train')].cost\n",
    "print(len(df_train))\n",
    "df_train"
   ]
  },
  {
   "cell_type": "code",
   "execution_count": 7,
   "id": "487e18c6",
   "metadata": {},
   "outputs": [
    {
     "data": {
      "text/plain": [
       "count      72.000000\n",
       "mean     1999.305556\n",
       "std      1079.302496\n",
       "min       500.000000\n",
       "25%      1000.000000\n",
       "50%      2000.000000\n",
       "75%      2500.000000\n",
       "max      5000.000000\n",
       "Name: cost, dtype: float64"
      ]
     },
     "execution_count": 7,
     "metadata": {},
     "output_type": "execute_result"
    }
   ],
   "source": [
    "df_train.describe()"
   ]
  },
  {
   "cell_type": "code",
   "execution_count": 35,
   "id": "21f4c45f",
   "metadata": {},
   "outputs": [
    {
     "data": {
      "image/png": "[encoded data removed]",
      "text/plain": [
       "<Figure size 640x480 with 1 Axes>"
      ]
     },
     "metadata": {},
     "output_type": "display_data"
    }
   ],
   "source": [
    "edges = np.linspace(200, 6000, 11)\n",
    "plt.hist(df_train, bins= edges, edgecolor='black')\n",
    "\n",
    "# Adding title and labels\n",
    "plt.title('Cost for student going by train')\n",
    "plt.xlabel('Cost (INR)')\n",
    "plt.ylabel('Number of students')\n",
    "plt.axvline(x=df_train.mean(), color='black', linestyle='--')\n",
    "plt.text(df_train.mean(), plt.gca().get_ylim()[1] * 0.05, f'x = {df_train.mean():.2f}', \n",
    "         horizontalalignment='center')\n",
    "plt.savefig('cost_train.png')\n",
    "plt.show()"
   ]
  },
  {
   "cell_type": "code",
   "execution_count": 26,
   "id": "023234a7",
   "metadata": {},
   "outputs": [
    {
     "data": {
      "text/plain": [
       "5164488.966318236"
      ]
     },
     "execution_count": 26,
     "metadata": {},
     "output_type": "execute_result"
    }
   ],
   "source": [
    "cf_std = df_flight.std()\n",
    "cf_std*cf_std"
   ]
  },
  {
   "cell_type": "code",
   "execution_count": 27,
   "id": "e5d51e5d",
   "metadata": {},
   "outputs": [
    {
     "data": {
      "text/plain": [
       "1164893.8771518"
      ]
     },
     "execution_count": 27,
     "metadata": {},
     "output_type": "execute_result"
    }
   ],
   "source": [
    "ct_std = df_train.std()\n",
    "ct_std*ct_std"
   ]
  },
  {
   "cell_type": "code",
   "execution_count": 10,
   "id": "5cb9b591",
   "metadata": {},
   "outputs": [
    {
     "data": {
      "text/plain": [
       "14.560003205895788"
      ]
     },
     "execution_count": 10,
     "metadata": {},
     "output_type": "execute_result"
    }
   ],
   "source": [
    "ratio_std = (cf_std*cf_std) / (ct_std*ct_std)\n",
    "ratio_std"
   ]
  },
  {
   "cell_type": "code",
   "execution_count": 11,
   "id": "31e524e6",
   "metadata": {},
   "outputs": [
    {
     "data": {
      "text/plain": [
       "(45, 72)"
      ]
     },
     "execution_count": 11,
     "metadata": {},
     "output_type": "execute_result"
    }
   ],
   "source": [
    "n,m = len(df_flight), len(df_train)\n",
    "n,m"
   ]
  },
  {
   "cell_type": "code",
   "execution_count": 12,
   "id": "752b0c5a",
   "metadata": {},
   "outputs": [],
   "source": [
    "alpha = 0.05"
   ]
  },
  {
   "cell_type": "code",
   "execution_count": 13,
   "id": "dcf4b251",
   "metadata": {},
   "outputs": [
    {
     "data": {
      "text/plain": [
       "(8.651679676323075, 25.357350302625026)"
      ]
     },
     "execution_count": 13,
     "metadata": {},
     "output_type": "execute_result"
    }
   ],
   "source": [
    "lower_limit = ratio_std/(f.ppf(1 - (alpha/2), n-1, m-1))\n",
    "upper_limit = ratio_std*(f.ppf(1 - (alpha/2), m-1, n-1))\n",
    "(lower_limit, upper_limit)"
   ]
  },
  {
   "cell_type": "markdown",
   "id": "cbbd4213",
   "metadata": {},
   "source": [
    "#### The 95% Confidence Interval for Var(Cost by Flight)/Var(Cost by Train) is (8.65, 25.36)"
   ]
  }
 ],
 "metadata": {
  "kernelspec": {
   "display_name": "Python 3 (ipykernel)",
   "language": "python",
   "name": "python3"
  },
  "language_info": {
   "codemirror_mode": {
    "name": "ipython",
    "version": 3
   },
   "file_extension": ".py",
   "mimetype": "text/x-python",
   "name": "python",
   "nbconvert_exporter": "python",
   "pygments_lexer": "ipython3",
   "version": "3.11.4"
  }
 },
 "nbformat": 4,
 "nbformat_minor": 5
}
