{
 "cells": [
  {
   "cell_type": "markdown",
   "metadata": {},
   "source": [
    "## Finding Confidence Interval\n",
    "### for difference of average cost for those who travel less and those who travel more\n",
    "X -> Cost to a Student who travels <= 4 times<br>\n",
    "Y -> Cost to a Student who travels > 4 times"
   ]
  },
  {
   "cell_type": "code",
   "execution_count": 20,
   "metadata": {},
   "outputs": [],
   "source": [
    "import numpy as np \n",
    "import pandas as pd \n",
    "from scipy.stats import t"
   ]
  },
  {
   "cell_type": "code",
   "execution_count": 21,
   "metadata": {},
   "outputs": [],
   "source": [
    "df = pd.read_csv(\"../data.csv\")\n",
    "alpha = 0.05 \n",
    "\n",
    "g4 = df[(df['freq'] == '5-10') | (df['freq'] == '>10')]\n",
    "mean_g4 = g4['cost'].mean()\n",
    "var_g4 = g4['cost'].var()\n",
    "\n",
    "l4 =  df[(df['freq'] == '3-4') | (df['freq'] == '<2')]\n",
    "mean_l4 = l4['cost'].mean() \n",
    "var_l4 = l4['cost'].var() "
   ]
  },
  {
   "cell_type": "markdown",
   "metadata": {},
   "source": [
    "### Calculating mean Difference:  $$ \\mu =  \\bar{X} - \\bar{Y} $$"
   ]
  },
  {
   "cell_type": "code",
   "execution_count": 22,
   "metadata": {},
   "outputs": [
    {
     "name": "stdout",
     "output_type": "stream",
     "text": [
      "Difference in means:  2810.506535947712\n"
     ]
    }
   ],
   "source": [
    "diff_mean = mean_l4 - mean_g4 \n",
    "print( \"Difference in means: \", diff_mean )"
   ]
  },
  {
   "cell_type": "markdown",
   "metadata": {},
   "source": [
    "### Calculation of Pooled Variance:  $$ S_{p}^2 = \\frac{ (n-1)S_{X}^2 + (m-1)S_{Y}^2 }{n + m -2} $$ \n",
    "####  $$ Degree of Freedom = n + m - 2 $$"
   ]
  },
  {
   "cell_type": "code",
   "execution_count": 23,
   "metadata": {},
   "outputs": [],
   "source": [
    "pooled_var = ((g4.shape[0]-1)*var_g4 + (l4.shape[0]-1)*var_l4) / g4.shape[0] + l4.shape[0] - 2 \n",
    " \n",
    "dof = g4.shape[0] + l4.shape[0] - 2 "
   ]
  },
  {
   "cell_type": "markdown",
   "metadata": {},
   "source": [
    "### Now finding Confidence Interval: $$ (\\bar{X} - \\bar{Y}) \\pm t_{\\frac{\\alpha}{2}, n+m-2} S_{p}\\sqrt{\\frac{1}{n} + \\frac{1}{m}} $$ "
   ]
  },
  {
   "cell_type": "code",
   "execution_count": 24,
   "metadata": {},
   "outputs": [
    {
     "name": "stdout",
     "output_type": "stream",
     "text": [
      "Confidence Interval: ( 1146.9678877554056  ,  4474.045184140019  )\n"
     ]
    }
   ],
   "source": [
    "t_value = t.ppf(1-alpha/2 , df=dof )\n",
    "deviation = np.sqrt( pooled_var/g4.shape[0] + pooled_var/l4.shape[0] )\n",
    "\n",
    "upper_bound = diff_mean + t_value*deviation \n",
    "lower_bound = diff_mean - t_value*deviation\n",
    "\n",
    "print( \"Confidence Interval: (\", lower_bound,  \" , \", upper_bound , \" )\" )"
   ]
  },
  {
   "cell_type": "markdown",
   "metadata": {},
   "source": [
    "### Confidence Interval: $$(1146.96 , 4474.04) $$"
   ]
  }
 ],
 "metadata": {
  "kernelspec": {
   "display_name": "Python 3",
   "language": "python",
   "name": "python3"
  },
  "language_info": {
   "codemirror_mode": {
    "name": "ipython",
    "version": 3
   },
   "file_extension": ".py",
   "mimetype": "text/x-python",
   "name": "python",
   "nbconvert_exporter": "python",
   "pygments_lexer": "ipython3",
   "version": "3.11.8"
  }
 },
 "nbformat": 4,
 "nbformat_minor": 2
}
